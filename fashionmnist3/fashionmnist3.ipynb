{
 "cells": [
  {
   "cell_type": "markdown",
   "metadata": {
    "colab_type": "text",
    "id": "BPu_tWr1WsxR"
   },
   "source": [
    "<img src=\"https://s8.hostingkartinok.com/uploads/images/2018/08/308b49fcfbc619d629fe4604bceb67ac.jpg\" width=500,>\n",
    "<h3 style=\"text-align: center;\"><b>Физтех-Школа Прикладной математики и информатики (ФПМИ) МФТИ</b></h3>"
   ]
  },
  {
   "cell_type": "markdown",
   "metadata": {
    "colab_type": "text",
    "id": "y4TIC_99WsxT"
   },
   "source": [
    "---"
   ]
  },
  {
   "cell_type": "markdown",
   "metadata": {
    "colab_type": "text",
    "id": "RkDjjoj2Ws04"
   },
   "source": [
    "<h2 style=\"text-align: center;\"><b>Задание</b></h2>"
   ]
  },
  {
   "cell_type": "markdown",
   "metadata": {
    "colab_type": "text",
    "id": "qpDM9WANWs04"
   },
   "source": [
    "Добейтесь как можно лучшего качества в соревновании!  \n",
    "\n",
    "[DLSchool: clothes recognition](https://www.kaggle.com/c/dlschool-fashionmnist3)"
   ]
  },
  {
   "cell_type": "markdown",
   "metadata": {
    "colab_type": "text",
    "id": "pC5T2TFTWs05"
   },
   "source": [
    "*Рекомендация*: попробуйте поменять количество итераций, количество нейронов, количество слоёв, гиперпараметры сети (learning_rate, метод оптимизации вместо SGD можно взять другой)"
   ]
  },
  {
   "cell_type": "code",
   "execution_count": 1,
   "metadata": {},
   "outputs": [],
   "source": [
    "import pandas as pd\n",
    "import numpy as np\n",
    "import torch"
   ]
  },
  {
   "cell_type": "code",
   "execution_count": 11,
   "metadata": {},
   "outputs": [
    {
     "data": {
      "text/plain": [
       "tensor([[0., 0., 1.,  ..., 0., 0., 0.],\n",
       "        [0., 0., 0.,  ..., 0., 0., 1.],\n",
       "        [0., 0., 0.,  ..., 0., 0., 0.],\n",
       "        ...,\n",
       "        [0., 0., 0.,  ..., 0., 1., 0.],\n",
       "        [0., 0., 0.,  ..., 0., 1., 0.],\n",
       "        [0., 0., 0.,  ..., 1., 0., 0.]], device='cuda:0')"
      ]
     },
     "execution_count": 11,
     "metadata": {},
     "output_type": "execute_result"
    }
   ],
   "source": [
    "# Загружаем данные\n",
    "TRAIN_PATH = './fashionmnist/fashion-mnist_train.csv'\n",
    "TEST_PATH = './fashionmnist/fashion-mnist_test.csv'\n",
    "\n",
    "train_df = pd.read_csv(TRAIN_PATH)\n",
    "test_df = pd.read_csv(TEST_PATH)\n",
    "\n",
    "X_train = train_df.values[:, 1:]\n",
    "y_train = train_df.values[:, 0]\n",
    "\n",
    "X_test = test_df.values # [:, 1:]  # удаляем столбец 'label'\n",
    "\n",
    "\n",
    "\n",
    "X_train_tensor = torch.cuda.FloatTensor(X_train)\n",
    "y_train_tensor = torch.cuda.LongTensor(y_train.astype(np.int64))\n",
    "\n",
    "X_test_tensor = torch.cuda.FloatTensor(X_test)\n",
    "\n",
    "\n",
    "length = y_train_tensor.shape[0]\n",
    "num_classes = 10  # количество классов, в нашем случае 10 типов одежды\n",
    "\n",
    "# закодированные OneHot-ом метки классов\n",
    "y_onehot = torch.cuda.FloatTensor(length, num_classes)\n",
    "\n",
    "y_onehot.zero_()\n",
    "y_onehot.scatter_(1, y_train_tensor.view(-1, 1), 1)\n"
   ]
  },
  {
   "cell_type": "code",
   "execution_count": 12,
   "metadata": {},
   "outputs": [],
   "source": [
    "def generate_batches(X, y, batch_size=64):\n",
    "    for i in range(0, X.shape[0], batch_size):\n",
    "        X_batch, y_batch = X[i:i+batch_size], y[i:i+batch_size]\n",
    "        yield X_batch, y_batch"
   ]
  },
  {
   "cell_type": "code",
   "execution_count": 5,
   "metadata": {
    "colab": {},
    "colab_type": "code",
    "id": "P8W0HbJjWs0-"
   },
   "outputs": [],
   "source": [
    "def accuracy(predict):\n",
    "#     Выбираем максимальное значение по 1 оси\n",
    "    _, predict = torch.max(predict, 1)\n",
    "\n",
    "#     Сравниваем предсказания с тестовой выборкой\n",
    "    c = (predict == y_train_tensor.cpu()[:10000])\n",
    "    print(\"Accuracy:\", round(c.sum().item() / len(c) * 100, 2), \"\\n\")\n",
    "\n",
    "def write_csv(predict):\n",
    "    _, predict = torch.max(predict.cpu(), 1)\n",
    "    answer_df = pd.DataFrame(data=predict.data.numpy(), columns=['Category'])\n",
    "    answer_df['Id'] = answer_df.index\n",
    "    answer_df.to_csv('./baseline_gart.csv', index=False)\n"
   ]
  },
  {
   "cell_type": "code",
   "execution_count": 6,
   "metadata": {},
   "outputs": [],
   "source": [
    "def train(model, batch=64, epochs=100, learning_rate= 1e-4):\n",
    "    print(batch, epochs, learning_rate)\n",
    "\n",
    "#     Функция потерь\n",
    "    loss_fn = torch.nn.CrossEntropyLoss().cuda()\n",
    "\n",
    "#     Оптимизатор\n",
    "    optimizer = torch.optim.Adam(model.parameters(), lr=learning_rate)\n",
    "    model = model.cuda()\n",
    "\n",
    "    for epoch_num  in range(epochs):\n",
    "#         Батчи\n",
    "        for X_batch, y_batch in generate_batches(X_train_tensor, \n",
    "                                                 y_train_tensor, \n",
    "                                                 batch):\n",
    "            y_pred = model(X_batch)\n",
    "\n",
    "            loss = loss_fn(y_pred, y_batch)\n",
    "        \n",
    "            optimizer.zero_grad()\n",
    "\n",
    "            loss.backward()\n",
    "            optimizer.step()\n",
    "    return model\n"
   ]
  },
  {
   "cell_type": "code",
   "execution_count": 14,
   "metadata": {},
   "outputs": [],
   "source": [
    "X_train_tensor = torch.cuda.FloatTensor(X_train.reshape(-1,1,28,28))\n",
    "y_train_tensor = torch.cuda.LongTensor(y_train.astype(np.int64))\n",
    "\n",
    "X_test_tensor = torch.FloatTensor(X_test.reshape(-1,1,28,28))\n",
    "\n",
    "class Flatten(torch.nn.Module):\n",
    "    def forward(self, input):\n",
    "        return input.view(input.size(0), -1)\n",
    "    "
   ]
  },
  {
   "cell_type": "code",
   "execution_count": 15,
   "metadata": {},
   "outputs": [],
   "source": [
    "def test_write(my_model):\n",
    "    my_model = my_model.cpu()\n",
    "    predict = my_model(X_train_tensor.cpu()[:10000])\n",
    "    accuracy(predict)\n",
    "\n",
    "    write_csv(my_model(X_test_tensor))\n",
    "#    Чистим мусор за собой\n",
    "    my_model = None\n",
    "    predict = None\n",
    "    torch.cuda.empty_cache()"
   ]
  },
  {
   "cell_type": "code",
   "execution_count": 22,
   "metadata": {},
   "outputs": [],
   "source": [
    "def get_model(id_model):\n",
    "    if id_model == 1:\n",
    "        return torch.nn.Sequential(torch.nn.Conv2d(1, 32, 3).cuda(),\n",
    "                                   torch.nn.ReLU().cuda(),\n",
    "                                   torch.nn.BatchNorm2d(32).cuda(),\n",
    "\n",
    "                                   torch.nn.Conv2d(32, 32, 3).cuda(),\n",
    "                                   torch.nn.ReLU().cuda(),\n",
    "                                   torch.nn.BatchNorm2d(32).cuda(),\n",
    "\n",
    "                                   torch.nn.MaxPool2d(2).cuda(),\n",
    "                                   torch.nn.Dropout(p=0.2).cuda(),\n",
    "\n",
    "                                   Flatten().cuda(),\n",
    "\n",
    "                                   torch.nn.Linear(4608, 32).cuda(),\n",
    "                                   torch.nn.ReLU().cuda(),\n",
    "                                   torch.nn.Linear(32, 10).cuda(),\n",
    "                                  ).cuda()\n",
    "    elif id_model == 2:\n",
    "        return torch.nn.Sequential(torch.nn.Conv2d(1, 32, 3).cuda(),\n",
    "                                   torch.nn.ReLU().cuda(),\n",
    "                                   torch.nn.BatchNorm2d(32).cuda(),\n",
    "\n",
    "                                   torch.nn.Conv2d(32, 32, 3).cuda(),\n",
    "                                   torch.nn.ReLU().cuda(),\n",
    "                                   torch.nn.BatchNorm2d(32).cuda(),\n",
    "\n",
    "                                   torch.nn.MaxPool2d(2).cuda(),\n",
    "                                   torch.nn.Dropout(p=0.2).cuda(),\n",
    "\n",
    "                                   torch.nn.Conv2d(32, 64, 3).cuda(),\n",
    "                                   torch.nn.ReLU().cuda(),\n",
    "                                   torch.nn.BatchNorm2d(64).cuda(),\n",
    "\n",
    "                                   torch.nn.Conv2d(64, 64, 3).cuda(),\n",
    "                                   torch.nn.ReLU().cuda(),\n",
    "                                   torch.nn.BatchNorm2d(64).cuda(),\n",
    "\n",
    "                                   torch.nn.MaxPool2d(2).cuda(),\n",
    "                                   torch.nn.Dropout(p=0.2).cuda(),\n",
    "\n",
    "                                   Flatten().cuda(),\n",
    "\n",
    "                                   torch.nn.Linear(1024, 32).cuda(),\n",
    "                                   torch.nn.ReLU().cuda(),\n",
    "                                   torch.nn.Linear(32, 10).cuda(),\n",
    "                                  ).cuda()\n"
   ]
  },
  {
   "cell_type": "code",
   "execution_count": 23,
   "metadata": {},
   "outputs": [
    {
     "name": "stdout",
     "output_type": "stream",
     "text": [
      "100 7 0.001\n",
      "Accuracy: 96.35 \n",
      "\n"
     ]
    }
   ],
   "source": [
    "# Быстрое обучение, премлемая точность\n",
    "my_model = train(get_model(1), \n",
    "                 batch=100,\n",
    "                 learning_rate= 1e-3,\n",
    "                 epochs=7)\n",
    "\n",
    "test_write(my_model)"
   ]
  },
  {
   "cell_type": "code",
   "execution_count": null,
   "metadata": {},
   "outputs": [
    {
     "name": "stdout",
     "output_type": "stream",
     "text": [
      "100 17 0.001\n"
     ]
    }
   ],
   "source": [
    "my_model = train(get_model(2), \n",
    "                 batch=100,\n",
    "                 learning_rate= 1e-3,\n",
    "                 epochs=17)\n",
    "\n",
    "test_write(my_model)"
   ]
  }
 ],
 "metadata": {
  "colab": {
   "collapsed_sections": [],
   "name": "[homework]fashionmnist_kaggle.ipynb",
   "provenance": [],
   "version": "0.3.2"
  },
  "kernelspec": {
   "display_name": "Python 3",
   "language": "python",
   "name": "python3"
  },
  "language_info": {
   "codemirror_mode": {
    "name": "ipython",
    "version": 3
   },
   "file_extension": ".py",
   "mimetype": "text/x-python",
   "name": "python",
   "nbconvert_exporter": "python",
   "pygments_lexer": "ipython3",
   "version": "3.6.7"
  }
 },
 "nbformat": 4,
 "nbformat_minor": 1
}
