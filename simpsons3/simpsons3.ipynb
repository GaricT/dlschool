{
 "cells": [
  {
   "cell_type": "markdown",
   "metadata": {},
   "source": [
    "<h3 style=\"text-align: center;\"><b>Физтех-Школа Прикладной математики и информатики (ФПМИ) МФТИ</b></h3>"
   ]
  },
  {
   "cell_type": "markdown",
   "metadata": {},
   "source": [
    "---"
   ]
  },
  {
   "cell_type": "markdown",
   "metadata": {},
   "source": [
    "<h2 style=\"text-align: center;\"><b>Задание</b></h2>"
   ]
  },
  {
   "cell_type": "markdown",
   "metadata": {},
   "source": [
    "Добейтесь как можно лучшего качества в соревновании!\n",
    "\n",
    "[Journey to Springfield](https://www.kaggle.com/c/simpsons3)"
   ]
  },
  {
   "cell_type": "markdown",
   "metadata": {},
   "source": [
    "`sklearn` - не используется, все необходимое реализовано с помощью `torch`, `numpy`"
   ]
  },
  {
   "cell_type": "code",
   "execution_count": 1,
   "metadata": {
    "colab": {},
    "colab_type": "code",
    "id": "NXkR5ln2uRCb"
   },
   "outputs": [],
   "source": [
    "import numpy as np\n",
    "\n",
    "import torch\n",
    "import torch.nn as nn\n",
    "from torch.utils.data import Dataset, DataLoader, random_split\n",
    "\n",
    "from torchvision import transforms\n",
    "\n",
    "from PIL import Image\n",
    "from tqdm import tqdm, tqdm_notebook\n",
    "\n",
    "from matplotlib import pyplot as plt\n",
    "\n",
    "# Работа с путями в системе\n",
    "from pathlib import Path\n",
    "\n",
    "import pandas as pd\n",
    "import datetime\n",
    "\n",
    "\n",
    "%matplotlib inline\n",
    "\n",
    "# torch.save - не любит сохранять модели из ноутбуков\n",
    "# мы будем игнорировать warnings\n",
    "import warnings\n",
    "warnings.filterwarnings(action='ignore', category=UserWarning)\n",
    "\n",
    "try:\n",
    "    import google.colab\n",
    "    IN_COLAB = True\n",
    "except:\n",
    "    IN_COLAB = False"
   ]
  },
  {
   "cell_type": "markdown",
   "metadata": {},
   "source": [
    "### Настройки"
   ]
  },
  {
   "cell_type": "code",
   "execution_count": 2,
   "metadata": {
    "colab": {
     "base_uri": "https://localhost:8080/",
     "height": 122
    },
    "colab_type": "code",
    "id": "F_BbA8guuff4",
    "outputId": "2af8d6bf-8a15-4ad9-ae5e-04e849ac0002"
   },
   "outputs": [],
   "source": [
    "# все изображения будут масштабированы к размеру 224x224 px\n",
    "RESCALE_SIZE = 224\n",
    "\n",
    "if IN_COLAB:\n",
    "    # Настройки, при запуске на colab    \n",
    "    from google.colab import drive\n",
    "    drive.mount('/content/gdrive/')\n",
    "\n",
    "    TRAIN_DIR = Path(r'/content/gdrive/My Drive/data/train/')\n",
    "    TEST_DIR = Path(r'/content/gdrive/My Drive/data/test/')\n",
    "    SAVE_DIR = Path(r'/content/gdrive/My Drive/data/')\n",
    "else:\n",
    "    # Настройки, при запуске на локальном комьютере\n",
    "    TRAIN_DIR = Path(r'../data/Simpsons/train/')\n",
    "    TEST_DIR = Path(r'../data/Simpsons/test/')\n",
    "    SAVE_DIR = Path(r'../data/Simpsons/')\n",
    "    \n",
    "if torch.cuda.is_available():\n",
    "    # работаем на GPU\n",
    "    DEVICE = torch.device(\"cuda\")\n",
    "else:\n",
    "    # работаем на CPU\n",
    "    DEVICE = torch.device(\"cpu\")"
   ]
  },
  {
   "cell_type": "markdown",
   "metadata": {},
   "source": [
    "Отказался от `sklearn.preprocessing.LabelEncoder`, использую `np.unique`.  \n",
    "Разбитие на тестовую и валидационную выборку реализовано через `torch.utils.data.random_split`"
   ]
  },
  {
   "cell_type": "code",
   "execution_count": 3,
   "metadata": {
    "colab": {},
    "colab_type": "code",
    "id": "PuMkEXs5vCeF"
   },
   "outputs": [],
   "source": [
    "class SimpsonsDataset(Dataset):\n",
    "    \"\"\"\n",
    "    Датасет с картинками, который паралельно подгружает их из папок\n",
    "    производит скалирование и превращение в торчевые тензоры\n",
    "    \n",
    "    rnd_transform - Применять ли случайные преобразования к изображениям\n",
    "    preload - храним изображения в пямяти, примерно 4Гб\n",
    "    \"\"\"\n",
    "    def __init__(self, file_dir, rnd_transform=False, preload=False):\n",
    "        super().__init__()\n",
    "        \n",
    "        # список файлов для загрузки\n",
    "        self.file_path = sorted(Path(file_dir).rglob('*.jpg'))\n",
    "        # Список имен и меток\n",
    "        self.labels_ = np.unique([path.parent.name for path in self.file_path], \n",
    "                                 return_inverse = True)\n",
    "\n",
    "        # Добавлять ли случайные аугментации изображения\n",
    "        if rnd_transform:\n",
    "            self.rnd_transform = transforms.RandomChoice([\n",
    "                transforms.RandomHorizontalFlip(p=0.66),\n",
    "                transforms.RandomVerticalFlip(p=0.66),\n",
    "                transforms.RandomRotation(180),\n",
    "            ])\n",
    "        else:\n",
    "            self.rnd_transform = lambda x: x\n",
    "\n",
    "        # Обязательные преобразование\n",
    "        self.transform = transforms.Compose([\n",
    "            transforms.ToTensor(),\n",
    "            transforms.Normalize([0.485, 0.456, 0.406], [0.229, 0.224, 0.225]) \n",
    "        ])\n",
    "\n",
    "        # Хранилище изображений\n",
    "        self.images = None\n",
    "        if preload:\n",
    "            self.images = [self.image_from_file(name) for name in self.file_path]\n",
    "                      \n",
    "    def __len__(self):\n",
    "        # Количество файлов в датасете\n",
    "        return len(self.file_path)\n",
    "\n",
    "    def image_from_file(self, name):\n",
    "        # Загружаем изображение из файла\n",
    "        x = Image.open(name)\n",
    "        x.load()\n",
    "        # Ресайзим\n",
    "        x = x.resize((RESCALE_SIZE, RESCALE_SIZE))\n",
    "        return x\n",
    "\n",
    "    def image(self, idx):\n",
    "        # Получаем изображение по индексу\n",
    "        if self.images is not None:\n",
    "            return self.images[idx] \n",
    "        else:\n",
    "            return self.image_from_file(self.file_path[idx])\n",
    "\n",
    "    @property\n",
    "    def labels(self):\n",
    "        # Текстовые метки датасета\n",
    "        return self.labels_[0].copy()\n",
    "\n",
    "    def random_split(self, percent):\n",
    "        # Разбивка датасета на тренировочный и валидационный\n",
    "        # percent - доля валидационного датасета\n",
    "\n",
    "        percent = min(max(0, percent), 1)\n",
    "        val_len = round(len(self) * percent)\n",
    "\n",
    "        return random_split(self, [len(self) - val_len, val_len])\n",
    "      \n",
    "    def __getitem__(self, idx):\n",
    "        # Загружаем изображение\n",
    "        x = self.image(idx)\n",
    "\n",
    "        # Случайные преобразования изображения\n",
    "        x = self.rnd_transform(x)\n",
    "\n",
    "        # Нормализуем\n",
    "        x = np.array(x, dtype='float32') / 255\n",
    "\n",
    "        # Дополнительные трансформации\n",
    "        x = self.transform(x)\n",
    "        \n",
    "        return x, self.labels_[1][idx]\n"
   ]
  },
  {
   "cell_type": "code",
   "execution_count": 4,
   "metadata": {
    "colab": {},
    "colab_type": "code",
    "id": "2vBnUcJbvmdR"
   },
   "outputs": [],
   "source": [
    "def imshow(inp, title=None, plt_ax=plt, default=False):\n",
    "    \"\"\"Imshow для тензоров\"\"\"\n",
    "    inp = inp.numpy().transpose((1, 2, 0))\n",
    "    mean = np.array([0.485, 0.456, 0.406])\n",
    "    std = np.array([0.229, 0.224, 0.225])\n",
    "    inp = std * inp + mean\n",
    "    inp = np.clip(inp, 0, 1)\n",
    "    plt_ax.imshow(inp)\n",
    "    if title is not None:\n",
    "        plt_ax.set_title(title)\n",
    "    plt_ax.grid(False)"
   ]
  },
  {
   "cell_type": "code",
   "execution_count": 5,
   "metadata": {
    "colab": {},
    "colab_type": "code",
    "id": "QbcHdS3Jvnor"
   },
   "outputs": [],
   "source": [
    "def graph(line1, line2, loss=True):\n",
    "    # Графики потерь, точности\n",
    "    if loss:\n",
    "        text = (\"train_loss\", \"val_loss\", \"epochs\", \"loss\")\n",
    "    else:\n",
    "        text = (\"train_acc\", \"val_acc\", \"epochs\", \"acc\")\n",
    "        \n",
    "    plt.figure(figsize=(12, 7))\n",
    "    plt.plot(line1, label=text[0])\n",
    "    plt.plot(line2, label=text[1])\n",
    "    plt.legend(loc='best')\n",
    "    plt.xlabel(text[2])\n",
    "    plt.ylabel(text[3])\n",
    "    plt.show()"
   ]
  },
  {
   "cell_type": "code",
   "execution_count": 6,
   "metadata": {
    "colab": {},
    "colab_type": "code",
    "id": "VI8o9O6hwZMa"
   },
   "outputs": [],
   "source": [
    "def fit_epoch(model, train_loader, criterion, optimizer):\n",
    "    # Обучение 1 эпоха\n",
    "    running_loss = 0.0\n",
    "    running_corrects = 0\n",
    "    processed_data = 0\n",
    "  \n",
    "    for inputs, labels in train_loader:\n",
    "        inputs = inputs.to(DEVICE)\n",
    "        labels = labels.to(DEVICE)\n",
    "        optimizer.zero_grad()\n",
    "\n",
    "        outputs = model(inputs)\n",
    "        loss = criterion(outputs, labels)\n",
    "        loss.backward()\n",
    "        optimizer.step()\n",
    "        preds = torch.argmax(outputs, 1)\n",
    "        \n",
    "        running_loss += loss.item() * inputs.size(0)\n",
    "        running_corrects += torch.sum(preds == labels.data)\n",
    "        processed_data += inputs.size(0)\n",
    "              \n",
    "    train_loss = running_loss / processed_data\n",
    "    train_acc = running_corrects.cpu().numpy() / processed_data\n",
    "    \n",
    "    return train_loss, train_acc"
   ]
  },
  {
   "cell_type": "code",
   "execution_count": 7,
   "metadata": {
    "colab": {},
    "colab_type": "code",
    "id": "LCL1gKoHwaAh"
   },
   "outputs": [],
   "source": [
    "def eval_epoch(model, val_loader, criterion):\n",
    "    # Валидация\n",
    "    model.eval()\n",
    "    running_loss = 0.0\n",
    "    running_corrects = 0\n",
    "    processed_size = 0\n",
    "\n",
    "    for inputs, labels in val_loader:\n",
    "        inputs = inputs.to(DEVICE)\n",
    "        labels = labels.to(DEVICE)\n",
    "\n",
    "        with torch.set_grad_enabled(False):\n",
    "            outputs = model(inputs)\n",
    "            loss = criterion(outputs, labels)\n",
    "            preds = torch.argmax(outputs, 1)\n",
    "\n",
    "        running_loss += loss.item() * inputs.size(0)\n",
    "        running_corrects += torch.sum(preds == labels.data)\n",
    "        processed_size += inputs.size(0)\n",
    "    val_loss = running_loss / processed_size\n",
    "    val_acc = running_corrects.double() / processed_size\n",
    "    \n",
    "    return val_loss, val_acc"
   ]
  },
  {
   "cell_type": "code",
   "execution_count": 8,
   "metadata": {
    "colab": {},
    "colab_type": "code",
    "id": "tjrMa6UgwbcX"
   },
   "outputs": [],
   "source": [
    "def train(train_dataset, val_dataset, model, epochs, batch_size, auto_save = False):\n",
    "    # Обучение модели \n",
    "    \n",
    "    train_loader = DataLoader(train_dataset, batch_size=batch_size, shuffle=True)\n",
    "    # Добавляем возможность обучать модель, без валидации\n",
    "    if val_dataset is not None:\n",
    "        val_loader = DataLoader(val_dataset, batch_size=batch_size, shuffle=False)\n",
    "\n",
    "    history = []\n",
    "    # Точность модели на предудущим шаге\n",
    "    train_acc = 0\n",
    "    # Лучшая точность модели\n",
    "    max_acc = -1\n",
    "    \n",
    "    log_template = \"\\nEpoch {ep:03d} train_loss: {t_loss:0.4f} \\\n",
    "    val_loss {v_loss:0.4f} train_acc {t_acc:0.4f} val_acc {v_acc:0.4f}\"\n",
    "\n",
    "    with tqdm_notebook(desc=\"epoch\", total=epochs) as pbar_outer:\n",
    "        opt = torch.optim.Adam(model.parameters())\n",
    "        criterion = nn.CrossEntropyLoss().to(DEVICE)\n",
    "\n",
    "        for epoch in range(epochs):\n",
    "            if auto_save and max_acc < train_acc:\n",
    "                # Сохраняем лучшую модель\n",
    "                torch.save(model, SAVE_DIR.joinpath(f\"model.pth\"))\n",
    "                max_acc = train_acc\n",
    "\n",
    "            train_loss, train_acc = fit_epoch(model, train_loader, criterion, opt)\n",
    "            print(\"loss\", train_loss)\n",
    "            \n",
    "            if val_dataset is not None:\n",
    "                val_loss, val_acc = eval_epoch(model, val_loader, criterion)\n",
    "            else:\n",
    "                val_loss, val_acc = -1, -1\n",
    "                \n",
    "            history.append((train_loss, train_acc, val_loss, val_acc))\n",
    "            \n",
    "            pbar_outer.update(1)\n",
    "            tqdm.write(log_template.format(ep=epoch+1, \n",
    "                                           t_loss=train_loss,\n",
    "                                           v_loss=val_loss, \n",
    "                                           t_acc=train_acc, \n",
    "                                           v_acc=val_acc))\n",
    "        if auto_save and train_acc < max_acc:\n",
    "            print(\"Загружаем модель с train_acc = \", max_acc)\n",
    "            model = torch.load(SAVE_DIR.joinpath(\"model.pth\"))\n",
    "            model.eval()\n",
    "            \n",
    "    return history"
   ]
  },
  {
   "cell_type": "code",
   "execution_count": 9,
   "metadata": {
    "colab": {},
    "colab_type": "code",
    "id": "PYFIvJ6uwcd1"
   },
   "outputs": [],
   "source": [
    "def predict(model, test_loader):\n",
    "    # Предсказания по тестовой выборке\n",
    "    with torch.no_grad():\n",
    "        logits = []\n",
    "    \n",
    "        for inputs, _ in test_loader:\n",
    "            inputs = inputs.to(DEVICE)\n",
    "            model.eval()\n",
    "            outputs = model(inputs).cpu()\n",
    "            logits.append(outputs)\n",
    "            \n",
    "    probs = nn.functional.softmax(torch.cat(logits), dim=-1).numpy()\n",
    "    return probs\n"
   ]
  },
  {
   "cell_type": "code",
   "execution_count": 10,
   "metadata": {},
   "outputs": [],
   "source": [
    "def save_predict(model, labels):\n",
    "    # Сохранение результатов по тестовой выборке\n",
    "    # Тестовый датасет\n",
    "    test_dataset = SimpsonsDataset(TEST_DIR)\n",
    "    test_loader = DataLoader(test_dataset, shuffle=False, batch_size=64)\n",
    "\n",
    "    # Предсказания\n",
    "    probs = predict(model, test_loader)\n",
    "    preds = list(labels[i] for i in np.argmax(probs, axis=1))\n",
    "    \n",
    "    # Имена файлоа\n",
    "    test_filenames = [path.name for path in test_dataset.file_path]\n",
    "    \n",
    "    # Датафрейм с ответами \n",
    "    my_submit = pd.DataFrame({'Id': test_filenames, 'Expected': preds})\n",
    "\n",
    "    # \"Уникальное\" имя файла\n",
    "    today = datetime.datetime.today().strftime(\"%Y%m%d_%H%M%S\")\n",
    "    today = f\"cnn_{today}.csv\"\n",
    "\n",
    "    # Сохраняем в файл\n",
    "    my_submit.to_csv( SAVE_DIR.joinpath(today), index=False )\n",
    "    print(\"Файл сохранен:\", today)\n"
   ]
  },
  {
   "cell_type": "code",
   "execution_count": 11,
   "metadata": {
    "colab": {
     "base_uri": "https://localhost:8080/",
     "height": 269
    },
    "colab_type": "code",
    "id": "-y6tBnHcwdxe",
    "outputId": "9bbba4a3-15dd-4e7e-877c-a140645e4ff1"
   },
   "outputs": [
    {
     "name": "stdout",
     "output_type": "stream",
     "text": [
      "n_classes: 42\n",
      "\n",
      "dataset_x: 15700 (0.75)\n",
      "dataset_y:  5233 (0.25)\n"
     ]
    },
    {
     "data": {
      "image/png": "[encoded data removed]",
      "text/plain": [
       "<Figure size 432x288 with 1 Axes>"
      ]
     },
     "metadata": {
      "needs_background": "light"
     },
     "output_type": "display_data"
    }
   ],
   "source": [
    "# Полный тренировочный датасет \n",
    "full_dataset = SimpsonsDataset(TRAIN_DIR, rnd_transform=False, preload=True)\n",
    "# Разбиваем на 2\n",
    "dataset_x, dataset_y = full_dataset.random_split(0.25)\n",
    "# Количество классов\n",
    "n_classes = len(full_dataset.labels)\n",
    "\n",
    "print(f\"n_classes: {n_classes}\\n\")\n",
    "print(\"dataset_x:\", \n",
    "      f\"{len(dataset_x):>5}\", \n",
    "      f\"({len(dataset_x) / len(full_dataset):.2})\")\n",
    "print(\"dataset_y:\", \n",
    "      f\"{len(dataset_y):>5}\", \n",
    "      f\"({len(dataset_y) / len(full_dataset):.2})\")\n",
    "\n",
    "imshow(dataset_x[0][0])"
   ]
  },
  {
   "cell_type": "code",
   "execution_count": 12,
   "metadata": {
    "colab": {},
    "colab_type": "code",
    "id": "28fDhL_Fv1W1"
   },
   "outputs": [],
   "source": [
    "class SimpleCnn(nn.Module):\n",
    "  \n",
    "    def __init__(self, n_classes):\n",
    "        super().__init__()\n",
    "        self.flattern = 128 * 24 * 24\n",
    "        \"\"\"\n",
    "        Использую 3 блока с одинаковой структурой:\n",
    "        [Conv - Активация - Нормализация ] * 2 в каждом слое количество выходных каналов\n",
    "        совпадает. На предыдущих заданиях убедился, что такая структура дает макс.эффект.\n",
    "        В принципе, интернет только подтверждает это\n",
    "        \"\"\"\n",
    "        \n",
    "        self.conv1 = nn.Sequential(\n",
    "            nn.Conv2d(in_channels=3, out_channels=32, kernel_size=3),\n",
    "            nn.ReLU(),\n",
    "            nn.BatchNorm2d(32),\n",
    "            nn.Conv2d(in_channels=32, out_channels=32, kernel_size=3),\n",
    "            nn.ReLU(),\n",
    "            nn.BatchNorm2d(32),\n",
    "        )\n",
    "\n",
    "        self.conv2 = nn.Sequential(\n",
    "            nn.Conv2d(in_channels=32, out_channels=64, kernel_size=3),\n",
    "            nn.ReLU(),\n",
    "            nn.BatchNorm2d(64),\n",
    "            nn.Conv2d(in_channels=64, out_channels=64, kernel_size=3),\n",
    "            nn.ReLU(),\n",
    "            nn.BatchNorm2d(64),\n",
    "        )\n",
    "        \n",
    "        self.conv3 = nn.Sequential(\n",
    "            nn.Conv2d(in_channels=64, out_channels=128, kernel_size=3),\n",
    "            nn.ReLU(),\n",
    "            nn.BatchNorm2d(128),\n",
    "            nn.Conv2d(in_channels=128, out_channels=128, kernel_size=3),\n",
    "            nn.ReLU(),\n",
    "            nn.BatchNorm2d(128),\n",
    "        )\n",
    "        \"\"\"\n",
    "        Между тремя основными блоками использую пулинг и дропаут\n",
    "        \"\"\"\n",
    "        self.PollDrop = nn.Sequential(\n",
    "            nn.MaxPool2d(kernel_size=2),\n",
    "            nn.Dropout(p=0.2)\n",
    "        )\n",
    "        \n",
    "        \"\"\"\n",
    "        Завершает модель два полносвязанных слоя, первый с большим количеством выходных\n",
    "        нейронов и большим дропаутом. До этого подобную схему, не применял. Подсмотренно\n",
    "        на просторах интернета, на удивление - оказалось рабочей. Сети с меньшим количеством\n",
    "        выходных нейронов (уменьшал до 128 с шагом 128) и меньшим размером дропаута \n",
    "        (до 0) - переобучались заметно быстрее и не давали нужной точности\n",
    "        \"\"\"\n",
    "        self.full1 = nn.Sequential(\n",
    "            nn.Linear(self.flattern, 1024),\n",
    "            nn.ReLU(),\n",
    "            torch.nn.BatchNorm1d(1024),\n",
    "            nn.Dropout(p=0.5),\n",
    "        )\n",
    "        \n",
    "        self.out = nn.Linear(1024, n_classes)\n",
    "\n",
    "    def forward(self, x, calc_flattern=False):\n",
    "        # 1 блок\n",
    "        x = self.conv1(x)\n",
    "        x = self.PollDrop(x)\n",
    "        # 2 блок\n",
    "        x = self.conv2(x)\n",
    "        x = self.PollDrop(x)\n",
    "        # 3 блок\n",
    "        x = self.conv3(x)\n",
    "        x = self.PollDrop(x)\n",
    "\n",
    "        if calc_flattern:\n",
    "            # При изменении слоев, можно передать 1 параметр и посмотреть, какая чиселка нужна\n",
    "            print(x.shape)\n",
    "            return None\n",
    "        # Конвертируем каждый батч в 1 массив\n",
    "        x = x.view(x.size(0), -1)\n",
    "\n",
    "        # Два полносвязанных слоя\n",
    "        x = self.full1(x)\n",
    "        logits = self.out(x)\n",
    "        return logits\n"
   ]
  },
  {
   "cell_type": "markdown",
   "metadata": {},
   "source": [
    "Запускаем модель по тренировочной, валидационной выборке. По графикам лосса и точности, определеяем когда начинается переобучение (при проверке задания можно пропустить и сразу перейти к последней ячейке ноутбука и тренировать модель уже на полной выборке).   \n",
    "Для данной модели, получилось следующее:  \n",
    "__lr__ - стандартный, увеличение или уменьшение приводит к увеличению количество эпох для обучения или падению точности.  \n",
    "__epoch__ - 10, т.к. есть восстановление модели с наиболее удачным показателем обучения берем максимум  \n",
    "__batch_size__ - 64, меньше хуже, возможно связано с громадным дропаутом между *Linear* слоями  "
   ]
  },
  {
   "cell_type": "code",
   "execution_count": 13,
   "metadata": {
    "colab": {
     "base_uri": "https://localhost:8080/",
     "height": 374
    },
    "colab_type": "code",
    "id": "IY2BLnktwelS",
    "outputId": "fae06b8a-2b59-4f8c-fd80-aaa85d53b2b8"
   },
   "outputs": [
    {
     "data": {
      "application/vnd.jupyter.widget-view+json": {
       "model_id": "b18d7d1c92d2403f98285da43b33bd7d",
       "version_major": 2,
       "version_minor": 0
      },
      "text/plain": [
       "HBox(children=(IntProgress(value=0, description='epoch', max=15, style=ProgressStyle(description_width='initia…"
      ]
     },
     "metadata": {},
     "output_type": "display_data"
    },
    {
     "name": "stdout",
     "output_type": "stream",
     "text": [
      "loss 2.016906853876296\n",
      "\n",
      "Epoch 001 train_loss: 2.0169     val_loss 1.3274 train_acc 0.4806 val_acc 0.6394\n",
      "loss 1.0134523204633386\n",
      "\n",
      "Epoch 002 train_loss: 1.0135     val_loss 0.9577 train_acc 0.7161 val_acc 0.7460\n",
      "loss 0.3986373924146033\n",
      "\n",
      "Epoch 003 train_loss: 0.3986     val_loss 0.9460 train_acc 0.8859 val_acc 0.7724\n",
      "loss 0.14681222394773155\n",
      "\n",
      "Epoch 004 train_loss: 0.1468     val_loss 1.1364 train_acc 0.9542 val_acc 0.7722\n",
      "loss 0.14068793125972626\n",
      "\n",
      "Epoch 005 train_loss: 0.1407     val_loss 1.2413 train_acc 0.9567 val_acc 0.7653\n",
      "loss 0.10822761508120093\n",
      "\n",
      "Epoch 006 train_loss: 0.1082     val_loss 1.4194 train_acc 0.9669 val_acc 0.7548\n",
      "loss 0.08201603078348621\n",
      "\n",
      "Epoch 007 train_loss: 0.0820     val_loss 1.3790 train_acc 0.9774 val_acc 0.7650\n",
      "loss 0.07316663133108003\n",
      "\n",
      "Epoch 008 train_loss: 0.0732     val_loss 1.5312 train_acc 0.9783 val_acc 0.7726\n",
      "loss 0.07228240415548823\n",
      "\n",
      "Epoch 009 train_loss: 0.0723     val_loss 1.4622 train_acc 0.9782 val_acc 0.7506\n",
      "loss 0.07078155647512455\n",
      "\n",
      "Epoch 010 train_loss: 0.0708     val_loss 1.6334 train_acc 0.9781 val_acc 0.7686\n",
      "loss 0.05405324989063725\n",
      "\n",
      "Epoch 011 train_loss: 0.0541     val_loss 1.5677 train_acc 0.9842 val_acc 0.7894\n",
      "loss 0.042457966576715946\n",
      "\n",
      "Epoch 012 train_loss: 0.0425     val_loss 1.5554 train_acc 0.9876 val_acc 0.7827\n",
      "loss 0.04577292190615539\n",
      "\n",
      "Epoch 013 train_loss: 0.0458     val_loss 1.6090 train_acc 0.9860 val_acc 0.7871\n",
      "loss 0.06849283398337407\n",
      "\n",
      "Epoch 014 train_loss: 0.0685     val_loss 1.8218 train_acc 0.9806 val_acc 0.7539\n",
      "loss 0.03964041343729967\n",
      "\n",
      "Epoch 015 train_loss: 0.0396     val_loss 1.5876 train_acc 0.9876 val_acc 0.7900\n",
      "\n"
     ]
    }
   ],
   "source": [
    "simple_cnn = SimpleCnn(n_classes).to(DEVICE)\n",
    "\n",
    "history = train(dataset_x, \n",
    "                dataset_y, \n",
    "                model=simple_cnn, \n",
    "                epochs=15, \n",
    "                batch_size=64)"
   ]
  },
  {
   "cell_type": "markdown",
   "metadata": {},
   "source": [
    "Анализировал только график лоса и точности. Матрица ошибок покажет, какие два класса сеть путает, но я не знаю как это исправить (какие фильтры или ансамбли нужно применять). По-этому сконцентрировался на общих показателях и использовал метод перебора, в купе с гуглом.  \n",
    "После ряда тестов, остановился на текущей схеме и дополнил ее сохранением восстановлением весов при обучении."
   ]
  },
  {
   "cell_type": "code",
   "execution_count": 14,
   "metadata": {
    "colab": {
     "base_uri": "https://localhost:8080/",
     "height": 875
    },
    "colab_type": "code",
    "id": "U2FZVrFZwhK6",
    "outputId": "a627fb5b-12e3-4375-c31d-6edf32cc9e48"
   },
   "outputs": [
    {
     "data": {
      "image/png": "[encoded data removed]",
      "text/plain": [
       "<Figure size 864x504 with 1 Axes>"
      ]
     },
     "metadata": {
      "needs_background": "light"
     },
     "output_type": "display_data"
    },
    {
     "data": {
      "image/png": "[encoded data removed]",
      "text/plain": [
       "<Figure size 864x504 with 1 Axes>"
      ]
     },
     "metadata": {
      "needs_background": "light"
     },
     "output_type": "display_data"
    }
   ],
   "source": [
    "# Графики лоса, точности\n",
    "loss, acc, val_loss, val_acc = zip(*history)\n",
    "graph(acc, val_acc, False)\n",
    "graph(loss, val_loss)"
   ]
  },
  {
   "cell_type": "markdown",
   "metadata": {
    "colab_type": "text",
    "id": "LothH5_6Ag3K"
   },
   "source": [
    "Финальное обучение. Используем полный тренировочный датасет, колическтво эпох и размер батча, определеные на предудыщим шаге, включаем автоматическое сохранение модели при достижении нового максимума точности по тренировочной выборке"
   ]
  },
  {
   "cell_type": "code",
   "execution_count": 15,
   "metadata": {
    "colab": {
     "base_uri": "https://localhost:8080/",
     "height": 34
    },
    "colab_type": "code",
    "id": "g4a0rW8O8BFj",
    "outputId": "35a105e7-a5c7-4fde-dd16-b379ed63af4e",
    "scrolled": false
   },
   "outputs": [
    {
     "data": {
      "application/vnd.jupyter.widget-view+json": {
       "model_id": "2c1bdb5f144d493ab360ab760b52ee4e",
       "version_major": 2,
       "version_minor": 0
      },
      "text/plain": [
       "HBox(children=(IntProgress(value=0, description='epoch', max=10, style=ProgressStyle(description_width='initia…"
      ]
     },
     "metadata": {},
     "output_type": "display_data"
    },
    {
     "name": "stdout",
     "output_type": "stream",
     "text": [
      "loss 1.8124329879383791\n",
      "\n",
      "Epoch 001 train_loss: 1.8124     val_loss -1.0000 train_acc 0.5283 val_acc -1.0000\n",
      "loss 0.8744382237884641\n",
      "\n",
      "Epoch 002 train_loss: 0.8744     val_loss -1.0000 train_acc 0.7625 val_acc -1.0000\n",
      "loss 0.40341688964425343\n",
      "\n",
      "Epoch 003 train_loss: 0.4034     val_loss -1.0000 train_acc 0.8922 val_acc -1.0000\n",
      "loss 0.15202149752076696\n",
      "\n",
      "Epoch 004 train_loss: 0.1520     val_loss -1.0000 train_acc 0.9615 val_acc -1.0000\n",
      "loss 0.06396587198066374\n",
      "\n",
      "Epoch 005 train_loss: 0.0640     val_loss -1.0000 train_acc 0.9847 val_acc -1.0000\n",
      "loss 0.06243110003751733\n",
      "\n",
      "Epoch 006 train_loss: 0.0624     val_loss -1.0000 train_acc 0.9845 val_acc -1.0000\n",
      "loss 0.029936145199865413\n",
      "\n",
      "Epoch 007 train_loss: 0.0299     val_loss -1.0000 train_acc 0.9936 val_acc -1.0000\n",
      "loss 0.0206113936982756\n",
      "\n",
      "Epoch 008 train_loss: 0.0206     val_loss -1.0000 train_acc 0.9961 val_acc -1.0000\n",
      "loss 0.07450466176820361\n",
      "\n",
      "Epoch 009 train_loss: 0.0745     val_loss -1.0000 train_acc 0.9783 val_acc -1.0000\n",
      "loss 0.10118189812566458\n",
      "\n",
      "Epoch 010 train_loss: 0.1012     val_loss -1.0000 train_acc 0.9708 val_acc -1.0000\n",
      "Загружаем модель с train_acc =  0.9961305116323508\n",
      "\n",
      "Файл сохранен: cnn_20190513_125935.csv\n"
     ]
    }
   ],
   "source": [
    "simple_cnn = SimpleCnn(n_classes).to(DEVICE)\n",
    "val_dataset = None\n",
    "\n",
    "_ = train(full_dataset, \n",
    "          val_dataset, \n",
    "          model=simple_cnn, \n",
    "          epochs=10, \n",
    "          batch_size=64, \n",
    "          auto_save=True)\n",
    "    \n",
    "    \n",
    "save_predict(simple_cnn, full_dataset.labels)"
   ]
  }
 ],
 "metadata": {
  "accelerator": "GPU",
  "colab": {
   "collapsed_sections": [],
   "name": "simpson_cnn",
   "provenance": [],
   "version": "0.3.2"
  },
  "kernelspec": {
   "display_name": "Python 3",
   "language": "python",
   "name": "python3"
  },
  "language_info": {
   "codemirror_mode": {
    "name": "ipython",
    "version": 3
   },
   "file_extension": ".py",
   "mimetype": "text/x-python",
   "name": "python",
   "nbconvert_exporter": "python",
   "pygments_lexer": "ipython3",
   "version": "3.6.7"
  }
 },
 "nbformat": 4,
 "nbformat_minor": 1
}
