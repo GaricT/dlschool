{
 "cells": [
  {
   "cell_type": "markdown",
   "metadata": {
    "colab_type": "text",
    "id": "dBco-TbRVBRJ"
   },
   "source": [
    "<h3 style=\"text-align: center;\"><b>Физтех-Школа Прикладной математики и информатики (ФПМИ) МФТИ</b></h3>"
   ]
  },
  {
   "cell_type": "markdown",
   "metadata": {},
   "source": [
    "---"
   ]
  },
  {
   "cell_type": "markdown",
   "metadata": {},
   "source": [
    "<h2 style=\"text-align: center;\"><b>Задание</b></h2>"
   ]
  },
  {
   "cell_type": "markdown",
   "metadata": {},
   "source": [
    "Добейтесь как можно лучшего качества в соревновании!  \n",
    "\n",
    "[Классификация дорожных знаков](https://www.kaggle.com/c/sweden-traffic-signs-classification)"
   ]
  },
  {
   "cell_type": "markdown",
   "metadata": {
    "colab_type": "text",
    "id": "S6fzViB2VBRP"
   },
   "source": [
    "Общие настройки"
   ]
  },
  {
   "cell_type": "code",
   "execution_count": 13,
   "metadata": {
    "colab": {},
    "colab_type": "code",
    "id": "C3VHDyVeVBRQ"
   },
   "outputs": [],
   "source": [
    "# Установим размер классифицируемых изображений \n",
    "# Изменяем размер с 50 на 100, дает лучшее схождение для ResNet (10 эпох, вместо 15)\n",
    "PIC_SIZE = 50 * 2\n",
    "\n",
    "# Путь к предобработанным данным\n",
    "data_path = r'./sweden-traffic/'"
   ]
  },
  {
   "cell_type": "code",
   "execution_count": 14,
   "metadata": {
    "colab": {},
    "colab_type": "code",
    "id": "loS9vS_bVBRT"
   },
   "outputs": [
    {
     "name": "stdout",
     "output_type": "stream",
     "text": [
      "GeForce GTX 1070\n",
      "Версия torch 1.0.1\n"
     ]
    }
   ],
   "source": [
    "import datetime\n",
    "import itertools\n",
    "import pandas as pd\n",
    "import numpy as np\n",
    "import os\n",
    "from PIL import Image\n",
    "\n",
    "import torch\n",
    "import torch.nn as nn\n",
    "from torch.utils.data import Dataset, DataLoader, random_split\n",
    "from torch.optim import lr_scheduler\n",
    "\n",
    "from torchvision import transforms, models\n",
    "\n",
    "import matplotlib.pyplot as plt\n",
    "\n",
    "from sklearn.metrics import confusion_matrix\n",
    "\n",
    "from tqdm import tqdm_notebook\n",
    "\n",
    "device = torch.device('cuda:0' if torch.cuda.is_available() else 'cpu')\n",
    "if torch.cuda.is_available():\n",
    "    print(torch.cuda.get_device_name(device))\n",
    "else:\n",
    "    print('Using CPU')\n",
    "    \n",
    "# torch.save - не любит сохранять модели из ноутбуков\n",
    "# мы будем игнорировать warnings\n",
    "import warnings\n",
    "warnings.filterwarnings(action='ignore', category=UserWarning)\n",
    "\n",
    "print('Версия torch', torch.__version__)"
   ]
  },
  {
   "cell_type": "markdown",
   "metadata": {
    "colab_type": "text",
    "id": "NxQSPe_YVBRV"
   },
   "source": [
    "Ноутбук создан под версией torch '1.0.1'"
   ]
  },
  {
   "cell_type": "code",
   "execution_count": 3,
   "metadata": {},
   "outputs": [],
   "source": [
    "def imshow(inp, title=None, plt_ax=plt, default=False):\n",
    "    \"\"\"Imshow для тензоров\"\"\"\n",
    "    inp = inp.numpy().transpose((1, 2, 0))\n",
    "    mean = np.array([0.485, 0.456, 0.406])\n",
    "    std = np.array([0.229, 0.224, 0.225])\n",
    "    inp = std * inp + mean\n",
    "    inp = np.clip(inp, 0, 1)\n",
    "    plt_ax.imshow(inp)\n",
    "    if title is not None:\n",
    "        plt_ax.set_title(title)\n",
    "    plt_ax.grid(False)"
   ]
  },
  {
   "cell_type": "markdown",
   "metadata": {
    "colab_type": "text",
    "id": "Q-ouX9TtVBRV"
   },
   "source": [
    "### Создадим класс-обёртку для нашего датасета"
   ]
  },
  {
   "cell_type": "markdown",
   "metadata": {},
   "source": [
    "Датасет, отличается следующим:\n",
    "1. Загружает файлы в память, что бы снизить время обращений к ним. Хранятся PIL объект (внимание может не хватить памяти)\n",
    "2. Создает аугментируованные копии изображения, если их количество в датасете меньше медианы + 25%. Медиана считается по списку значений изображений в группе\n",
    "3. Количество аугментаций не должно сильно превышать среднее значение среди всех групп + 50%\n",
    "4. Аугментирует все доступные изображения при обращении, за счет этого повышаем точность, дополнительно можно для валидации использовать теже изображения что и в выборке для обучения, т.к. пофакту это разные изображения."
   ]
  },
  {
   "cell_type": "code",
   "execution_count": 18,
   "metadata": {
    "colab": {},
    "colab_type": "code",
    "id": "braR7MNKVBRW"
   },
   "outputs": [],
   "source": [
    "class SignsDataset(Dataset):\n",
    "    \"\"\"Road signs dataset.\"\"\"\n",
    "\n",
    "    def __init__(self, csv_file, root_dir, normalize=True):\n",
    "        \"\"\"\n",
    "        Args:\n",
    "            csv_file  (string): Полный путь к csv файлу с датасетом\n",
    "            root_dir  (string): Директория с файлами\n",
    "            normalize (boolean): Добавление аугментаций для категорий с малым количеством файлов\n",
    "        \"\"\"\n",
    "        # Читаем файл с данными\n",
    "        self.signs_frame = pd.read_csv(csv_file)\n",
    "        self.root_dir = root_dir\n",
    "        print(f'{len(self.signs_frame)} samples loaded')\n",
    "        \n",
    "        # Преобразования изображения\n",
    "        self.signs_frame['transf'] = None\n",
    "\n",
    "        # В тестовом датасете нет ответов\n",
    "        if \"label\" in self.signs_frame.columns:\n",
    "            # Создаем 4 вида аугментаций, потом добавляем их в список\n",
    "            trans_block4 = transforms.Compose([\n",
    "                transforms.RandomResizedCrop((PIC_SIZE, PIC_SIZE),\n",
    "                                             scale=(0.5, 1.0), \n",
    "                                             ratio=(0.5, 1.0)),\n",
    "            ])\n",
    "            trans_block3 = transforms.Compose([\n",
    "                transforms.ColorJitter(brightness =[0.7,1.5]),\n",
    "                transforms.RandomResizedCrop((PIC_SIZE, PIC_SIZE),\n",
    "                                             scale=(0.5, 1.0), \n",
    "                                             ratio=(0.5, 1)),\n",
    "            ])\n",
    "            trans_block2 = transforms.Compose([\n",
    "                transforms.RandomResizedCrop((PIC_SIZE, PIC_SIZE),\n",
    "                                             scale=(0.5, 1), \n",
    "                                             ratio=(0.5, 1)),\n",
    "                transforms.RandomAffine(degrees=0,\n",
    "                                        scale = (0.4, 0.9)),\n",
    "            ])\n",
    "            trans_block1 = transforms.Compose([\n",
    "                transforms.RandomAffine(degrees=0,\n",
    "                                        scale = (0.4, 0.9)),\n",
    "            ])\n",
    "            # Список модификаций для изображений\n",
    "            self.augmentation = [trans_block1,\n",
    "                                 trans_block2,\n",
    "                                 trans_block3,\n",
    "                                 trans_block4,\n",
    "                                 trans_block1,\n",
    "                                 trans_block2,\n",
    "                                 trans_block3,\n",
    "                                 trans_block4,\n",
    "                                 trans_block1,\n",
    "                                 trans_block2,\n",
    "                                 trans_block3,\n",
    "                                 trans_block4,\n",
    "                                ]\n",
    "            \n",
    "            # Посчитаем сбалансированность датасета, конвертируем названия в числовые коды\n",
    "            vals = np.unique(self.signs_frame.label, \n",
    "                             return_inverse = True,\n",
    "                             return_counts = True)\n",
    "\n",
    "            # Список названий категорий\n",
    "            self.labels_ = vals[0]\n",
    "            # Числовые коды (номера каналов)\n",
    "            self.signs_frame['code'] = vals[1]\n",
    "            \n",
    "            # Медиана по количеству картинок\n",
    "            median = np.median(vals[2]) + 5\n",
    "            # Среднее значение\n",
    "            mean = vals[2].mean() * 1.5\n",
    "            \n",
    "            if normalize and mean > median:\n",
    "                self.signs_frame['transf'] = transforms.RandomChoice(self.augmentation)\n",
    "\n",
    "                for i, (name, count)  in enumerate(zip(vals[0], vals[2])):\n",
    "                    # Не аугментируем данные количество которых превышает медиану + 25%\n",
    "                    if count > median * 1.25:\n",
    "                        continue\n",
    "\n",
    "                    # Считаем сколько нужно добавить данных, огрвничиваем макс. количество \n",
    "                    # аугментированных значений\n",
    "                    diff = mean - count\n",
    "\n",
    "                    # Копируем все строки, одной категории\n",
    "                    transf_df = self.signs_frame[self.signs_frame.label == name].copy()\n",
    "                    \n",
    "                    for transf in self.augmentation:\n",
    "                        # Добавляем аугментации\n",
    "                        transf_df.transf = transf\n",
    "                        self.signs_frame = self.signs_frame.append(transf_df.copy(), \n",
    "                                                                   ignore_index=True)\n",
    "                        diff -= len(transf_df.transf)\n",
    "                        # Стараемся не сильно превышать среднее количество примеров\n",
    "                        if diff <= 0:\n",
    "                            break\n",
    "                    \n",
    "        else:\n",
    "            self.signs_frame['label'] = self.signs_frame['file_name']\n",
    "            self.signs_frame['code'] = self.signs_frame.index\n",
    "\n",
    "        # Обязательные преобразование\n",
    "        self.transform = transforms.Compose([\n",
    "            transforms.ToTensor(),\n",
    "            transforms.Normalize([0.485, 0.456, 0.406], [0.229, 0.224, 0.225]) \n",
    "        ])\n",
    "        \n",
    "        self.images_ds = list()\n",
    "        for i in range(len(self.signs_frame)):\n",
    "            # Получаем полный путь к файлу\n",
    "            img_name = self.root_dir + self.signs_frame.file_name[i]\n",
    "            image = Image.open(img_name)\n",
    "            image.load()\n",
    "\n",
    "            image = image.resize((PIC_SIZE, PIC_SIZE), Image.ANTIALIAS)\n",
    "        \n",
    "            if self.signs_frame.transf[i] is None:\n",
    "                # Дополнительные трансформации\n",
    "                image = np.array(image, dtype='float32') / 255\n",
    "                image = self.transform(image)\n",
    "            self.images_ds.append(image)\n",
    "\n",
    "    @property\n",
    "    def labels(self):\n",
    "        # Текстовые метки датасета\n",
    "        return self.labels_.copy()\n",
    "    \n",
    "    def __len__(self):\n",
    "        return len(self.signs_frame)\n",
    "\n",
    "    def random_split(self, percent):\n",
    "        # Разбивка датасета на тренировочный и валидационный\n",
    "        # percent - доля валидационного датасета\n",
    "\n",
    "        percent = min(max(0, percent), 1)\n",
    "        val_len = round(len(self) * percent)\n",
    "\n",
    "        return random_split(self, [len(self) - val_len, val_len])\n",
    "\n",
    "    def __getitem__(self, idx):\n",
    "        idx = int(idx)\n",
    "        \n",
    "        # Загрузим изображение\n",
    "        image = self.images_ds[idx]\n",
    "\n",
    "        # Случайные преобразования изображения\n",
    "        if self.signs_frame.transf[idx] is not None:\n",
    "            image = self.signs_frame.transf[idx](image)\n",
    "\n",
    "            # Дополнительные трансформации\n",
    "            image = np.array(image, dtype='float32') / 255\n",
    "            image = self.transform(image)\n",
    "\n",
    "        return image, self.signs_frame.code[idx]"
   ]
  },
  {
   "cell_type": "markdown",
   "metadata": {
    "colab_type": "text",
    "id": "2GbgtqEsVBRY"
   },
   "source": [
    "### Создадим DataLoader'ы, облегчающие закрузку и сэмплинг данных"
   ]
  },
  {
   "cell_type": "markdown",
   "metadata": {},
   "source": [
    "Есть два способа обучения:\n",
    "1. Используем два датасета. Один из текущего задания, другой из лекции 9. Однозначного запрета на этот вариант, не было. Для проверки, нужно выкачать архив `\"data2.zip\"`, список файлов `train2.csv`. Датасет набрал: публичный **0.99672**, закрытый ResNet34 **1.00000**, vgg16bn **0.99672** \n",
    "  \n",
    "2. Используем только текущий датасет и дополняем весами, полученными на датасете с немецкими знаками `german_vgg16bn.pth` 513Мб. Данный вариант просчитан только для `VGG-16 with batch normalization`. Т.к. именно это была основная архитектура, до появления варианта 1. Датасет набрал: публичный **0.98360**, закрытый **0.99016**"
   ]
  },
  {
   "cell_type": "code",
   "execution_count": 5,
   "metadata": {},
   "outputs": [
    {
     "name": "stdout",
     "output_type": "stream",
     "text": [
      "5616 samples loaded\n"
     ]
    }
   ],
   "source": [
    "# Вариант 1\n",
    "full_dataset = SignsDataset(data_path + 'train2.csv', \n",
    "                            data_path + 'data2\\\\',\n",
    "                            True)\n",
    "double_ds = True\n",
    "classes_number = len(full_dataset.labels)"
   ]
  },
  {
   "cell_type": "code",
   "execution_count": 20,
   "metadata": {},
   "outputs": [
    {
     "name": "stdout",
     "output_type": "stream",
     "text": [
      "2503 samples loaded\n"
     ]
    }
   ],
   "source": [
    "# Вариант 2\n",
    "full_dataset = SignsDataset(data_path + 'train.csv', \n",
    "                            data_path + 'data\\\\',\n",
    "                            True)\n",
    "double_ds = False\n",
    "classes_number = len(full_dataset.labels)"
   ]
  },
  {
   "cell_type": "code",
   "execution_count": 6,
   "metadata": {
    "colab": {},
    "colab_type": "code",
    "id": "GdcM8hClVBRY"
   },
   "outputs": [],
   "source": [
    "# Разбиение датасета на train и validation\n",
    "train_ds, validation_ds = full_dataset.random_split(0.20)\n",
    "    \n",
    "signsTrainLoader = DataLoader(full_dataset, batch_size=16, shuffle=True)\n",
    "signsValidationLoader = DataLoader(validation_ds, batch_size=128, shuffle=False)\n"
   ]
  },
  {
   "cell_type": "code",
   "execution_count": 7,
   "metadata": {
    "colab": {},
    "colab_type": "code",
    "id": "1YD8HcoaVBRa"
   },
   "outputs": [
    {
     "data": {
      "image/png": "[encoded data removed]",
      "text/plain": [
       "<Figure size 432x288 with 1 Axes>"
      ]
     },
     "metadata": {
      "needs_background": "light"
     },
     "output_type": "display_data"
    }
   ],
   "source": [
    "# Изображения в dataset\n",
    "imshow(full_dataset[0][0])"
   ]
  },
  {
   "cell_type": "markdown",
   "metadata": {
    "colab_type": "text",
    "id": "-YSkqTLpVBRe"
   },
   "source": [
    "### Данные сильно несбалансированы (unbalanced dataset)"
   ]
  },
  {
   "cell_type": "code",
   "execution_count": null,
   "metadata": {},
   "outputs": [],
   "source": [
    "print(\"classes_number\", classes_number)\n",
    "df = full_dataset.signs_frame\n",
    "df.groupby('label').label.count()"
   ]
  },
  {
   "cell_type": "markdown",
   "metadata": {
    "colab_type": "text",
    "id": "lLmHhzunVBRg"
   },
   "source": [
    "## Выбираем и обучаем сеть"
   ]
  },
  {
   "cell_type": "markdown",
   "metadata": {
    "colab_type": "text",
    "id": "sTd5QlKpVBRk"
   },
   "source": [
    "Остановил свой выбор на двух архитектурах `ResNet-34` и `VGG-16 with batch normalization`. От `Inception v3` отказался, т.к. итоговая точность такая же, но процесс ее обучения занимает намного больше времени.  \n",
    "`Inception v3` оказался вообще загадочной штукой, открытый скор *0.96721*, закрытый *0.98360*. Для него совпало так, что он плохо распознавал данные из открытой части.\n",
    "  \n",
    "Не нужное закоментировать, нужное - расскоментировать"
   ]
  },
  {
   "cell_type": "code",
   "execution_count": 8,
   "metadata": {},
   "outputs": [],
   "source": [
    "# nn_type = \"resnet34\"\n",
    "nn_type = \"vgg16_bn\"\n",
    "\n",
    "# Шаг алгоритма оптимизации\n",
    "learning_rate = 1e-4\n",
    "\n",
    "# Изменение скорости обучение (learning rate scheduling). \n",
    "# Используем для лучшей сходимости, подобрал анализируя график точности валидации, после \n",
    "# определенного шага его начинает бросать из +/-, в этот момент нужно уменьшить lr\n",
    "step_size=6\n"
   ]
  },
  {
   "cell_type": "markdown",
   "metadata": {},
   "source": [
    "Процедуры генерации сети:\n",
    "    1. ResNet-34"
   ]
  },
  {
   "cell_type": "code",
   "execution_count": 5,
   "metadata": {},
   "outputs": [],
   "source": [
    "def get_resnet(classes, device):\n",
    "    tmp_model = models.resnet34(pretrained=False)\n",
    "    tmp_model.fc = nn.Linear(512, classes)\n",
    "    return tmp_model.to(device)\n",
    "    "
   ]
  },
  {
   "cell_type": "markdown",
   "metadata": {},
   "source": [
    "    2. VGG-16 with batch normalization"
   ]
  },
  {
   "cell_type": "code",
   "execution_count": 6,
   "metadata": {},
   "outputs": [],
   "source": [
    "def get_vgg(classes, device, pretrained=False):\n",
    "    tmp_model = models.vgg16_bn(pretrained=False)\n",
    "    \n",
    "    if pretrained:\n",
    "        # Загрузим веса, от тренировки на датасете знаков германии\n",
    "        tmp_model.classifier = nn.Sequential(nn.Linear(25088, 4096),\n",
    "                                             nn.ReLU(),\n",
    "                                             nn.Dropout(p=0.5),\n",
    "                                             nn.Linear(4096, 4096),\n",
    "                                             nn.ReLU(),\n",
    "                                             nn.Dropout(p=0.5),\n",
    "                                             nn.Linear(4096, 43),\n",
    "                                            )\n",
    "        tmp_model = tmp_model.to(device)\n",
    "        tmp_model.load_state_dict(torch.load(data_path + \"german_vgg16bn.pth\"))\n",
    "    tmp_model.classifier = nn.Sequential(nn.Linear(25088, 4096),\n",
    "                                         nn.ReLU(),\n",
    "                                         nn.Dropout(p=0.5),\n",
    "                                         nn.Linear(4096, 4096),\n",
    "                                         nn.ReLU(),\n",
    "                                         nn.Dropout(p=0.5),\n",
    "                                         nn.Linear(4096, classes),\n",
    "                                        )\n",
    "    return tmp_model.to(device)\n",
    "    "
   ]
  },
  {
   "cell_type": "markdown",
   "metadata": {},
   "source": [
    "Создание модели заданной архитектуры"
   ]
  },
  {
   "cell_type": "code",
   "execution_count": 11,
   "metadata": {
    "colab": {},
    "colab_type": "code",
    "id": "HPi6fn26VBRl"
   },
   "outputs": [],
   "source": [
    "# Временная отметка (для логирования файлов, что бы понимать в какое время были получены данные)\n",
    "time_stamp = datetime.datetime.today().strftime(\"%Y%m%d_%H%M%S\")\n",
    "\n",
    "if nn_type == \"resnet34\" and double_ds:\n",
    "    model = get_resnet(classes_number, device)\n",
    "elif nn_type == \"vgg16_bn\" or not double_ds:\n",
    "    nn_type = \"vgg16_bn\"\n",
    "    model = get_vgg(classes_number, device, True)\n"
   ]
  },
  {
   "cell_type": "markdown",
   "metadata": {},
   "source": [
    "Функция возвращает по модели: точность, предсказания, loss"
   ]
  },
  {
   "cell_type": "code",
   "execution_count": 12,
   "metadata": {},
   "outputs": [],
   "source": [
    "def model_check(chk_model, check_ds, device, accurency=False, predict=False, loss_fn=None):\n",
    "    # Переводим модель в режим \"предсказания\"\n",
    "    chk_model.eval()\n",
    "    # Для Inception нужны дополнительные операции\n",
    "    inc_v3 = isinstance(chk_model, models.inception.Inception3)\n",
    "    # Можем возвращать несколько разных значений\n",
    "    result = []\n",
    "    \n",
    "    # Отключаем градиенты\n",
    "    with torch.no_grad(): \n",
    "        acc = np.array([])\n",
    "        loss = np.array([])\n",
    "        # Отключаем хвосты для Inception v3\n",
    "        if inc_v3:\n",
    "            chk_model.aux_logits = False\n",
    "\n",
    "        for x, y in check_ds:\n",
    "            x, y = x.to(device), y.to(device)\n",
    "            y_pred = chk_model(x)\n",
    "            \n",
    "            if loss_fn is not None:\n",
    "                loss = np.append(loss, loss_fn(y_pred, y).item())\n",
    "                \n",
    "            y_pred = torch.argmax(y_pred, 1)\n",
    "            acc = np.append(acc, (y == y_pred).cpu().numpy())\n",
    "\n",
    "    # Точность\n",
    "    if accurency:\n",
    "        result.append(acc.mean().item() if len(acc) != 0 else 0)\n",
    "    # Loss\n",
    "    if loss_fn is not None:\n",
    "        result.append(loss.mean().item() if len(loss) != 0 else 0)\n",
    "\n",
    "    # Восстанавливаем режим обучения\n",
    "    chk_model.train()\n",
    "    # Включаем хвосты для Inception v3\n",
    "    if inc_v3:\n",
    "        chk_model.aux_logits = False\n",
    "    \n",
    "    return result[0] if len(result) == 1 else tuple(result)\n"
   ]
  },
  {
   "cell_type": "code",
   "execution_count": 13,
   "metadata": {
    "colab": {},
    "colab_type": "code",
    "id": "KWCWYFj8VBRo",
    "scrolled": true
   },
   "outputs": [
    {
     "data": {
      "application/vnd.jupyter.widget-view+json": {
       "model_id": "5e2bbc2a6f1f43bb80d4a6b401088ea8",
       "version_major": 2,
       "version_minor": 0
      },
      "text/plain": [
       "HBox(children=(IntProgress(value=0, description='epoch', max=10, style=ProgressStyle(description_width='initia…"
      ]
     },
     "metadata": {},
     "output_type": "display_data"
    },
    {
     "data": {
      "application/vnd.jupyter.widget-view+json": {
       "model_id": "",
       "version_major": 2,
       "version_minor": 0
      },
      "text/plain": [
       "HBox(children=(IntProgress(value=0, description='batch', max=628, style=ProgressStyle(description_width='initi…"
      ]
     },
     "metadata": {},
     "output_type": "display_data"
    },
    {
     "data": {
      "application/vnd.jupyter.widget-view+json": {
       "model_id": "",
       "version_major": 2,
       "version_minor": 0
      },
      "text/plain": [
       "HBox(children=(IntProgress(value=0, description='batch', max=628, style=ProgressStyle(description_width='initi…"
      ]
     },
     "metadata": {},
     "output_type": "display_data"
    },
    {
     "data": {
      "application/vnd.jupyter.widget-view+json": {
       "model_id": "",
       "version_major": 2,
       "version_minor": 0
      },
      "text/plain": [
       "HBox(children=(IntProgress(value=0, description='batch', max=628, style=ProgressStyle(description_width='initi…"
      ]
     },
     "metadata": {},
     "output_type": "display_data"
    },
    {
     "data": {
      "application/vnd.jupyter.widget-view+json": {
       "model_id": "",
       "version_major": 2,
       "version_minor": 0
      },
      "text/plain": [
       "HBox(children=(IntProgress(value=0, description='batch', max=628, style=ProgressStyle(description_width='initi…"
      ]
     },
     "metadata": {},
     "output_type": "display_data"
    },
    {
     "data": {
      "application/vnd.jupyter.widget-view+json": {
       "model_id": "",
       "version_major": 2,
       "version_minor": 0
      },
      "text/plain": [
       "HBox(children=(IntProgress(value=0, description='batch', max=628, style=ProgressStyle(description_width='initi…"
      ]
     },
     "metadata": {},
     "output_type": "display_data"
    },
    {
     "data": {
      "application/vnd.jupyter.widget-view+json": {
       "model_id": "",
       "version_major": 2,
       "version_minor": 0
      },
      "text/plain": [
       "HBox(children=(IntProgress(value=0, description='batch', max=628, style=ProgressStyle(description_width='initi…"
      ]
     },
     "metadata": {},
     "output_type": "display_data"
    },
    {
     "data": {
      "application/vnd.jupyter.widget-view+json": {
       "model_id": "",
       "version_major": 2,
       "version_minor": 0
      },
      "text/plain": [
       "HBox(children=(IntProgress(value=0, description='batch', max=628, style=ProgressStyle(description_width='initi…"
      ]
     },
     "metadata": {},
     "output_type": "display_data"
    },
    {
     "name": "stdout",
     "output_type": "stream",
     "text": [
      "Сохраняем: vgg16_bn_20190515_232819_0.9875_6.pth\n"
     ]
    },
    {
     "data": {
      "application/vnd.jupyter.widget-view+json": {
       "model_id": "",
       "version_major": 2,
       "version_minor": 0
      },
      "text/plain": [
       "HBox(children=(IntProgress(value=0, description='batch', max=628, style=ProgressStyle(description_width='initi…"
      ]
     },
     "metadata": {},
     "output_type": "display_data"
    },
    {
     "name": "stdout",
     "output_type": "stream",
     "text": [
      "Сохраняем: vgg16_bn_20190515_232819_0.9890_7.pth\n"
     ]
    },
    {
     "data": {
      "application/vnd.jupyter.widget-view+json": {
       "model_id": "",
       "version_major": 2,
       "version_minor": 0
      },
      "text/plain": [
       "HBox(children=(IntProgress(value=0, description='batch', max=628, style=ProgressStyle(description_width='initi…"
      ]
     },
     "metadata": {},
     "output_type": "display_data"
    },
    {
     "name": "stdout",
     "output_type": "stream",
     "text": [
      "Сохраняем: vgg16_bn_20190515_232819_0.9910_8.pth\n"
     ]
    },
    {
     "data": {
      "application/vnd.jupyter.widget-view+json": {
       "model_id": "",
       "version_major": 2,
       "version_minor": 0
      },
      "text/plain": [
       "HBox(children=(IntProgress(value=0, description='batch', max=628, style=ProgressStyle(description_width='initi…"
      ]
     },
     "metadata": {},
     "output_type": "display_data"
    },
    {
     "name": "stdout",
     "output_type": "stream",
     "text": [
      "Сохраняем: vgg16_bn_20190515_232819_0.9910_9.pth\n",
      "\n",
      "Обучение закончено\n",
      "0.9910\n"
     ]
    }
   ],
   "source": [
    "# Лог с результатами работы\n",
    "history = {'loss':[], 'val_loss':[]}\n",
    "\n",
    "# Функция потерь, стандартно без изменений\n",
    "loss_fn = torch.nn.CrossEntropyLoss().to(device)\n",
    "\n",
    "# Алгоритм оптимизации\n",
    "optimizer = torch.optim.Adam(model.parameters(), lr=learning_rate)\n",
    "\n",
    "# Умножает learning_rate на 0.1 каждые step_size эпох\n",
    "exp_scheduler = lr_scheduler.StepLR(optimizer, step_size=step_size, gamma=0.1)\n",
    "\n",
    "try:\n",
    "    # Inception возвращает кортеж значений + aux хвосты\n",
    "    inc_v3 = isinstance(model, models.inception.Inception3)\n",
    "    # Переводим модель в режим обучения\n",
    "    model.train()\n",
    "    if inc_v3:\n",
    "        model.aux_logits = True\n",
    "\n",
    "    # Инициализируем начальные значения\n",
    "    val_acc = np.array([])\n",
    "    batch_loss = np.array([])\n",
    "    i = 0\n",
    "\n",
    "    # Создаем объект прогресс бара, что бы в дальнейшем выводить на нем информацию\n",
    "    pbar = tqdm_notebook(range(10), desc=\"epoch\")\n",
    "    for epoch in pbar:\n",
    "\n",
    "        # Считаем шаги, до уменьшения lr\n",
    "        exp_scheduler.step()\n",
    "\n",
    "        pbatch = tqdm_notebook(signsTrainLoader, desc=\"batch\", leave=False)\n",
    "        for X_batch, y_batch in pbatch:\n",
    "            # Текущий батч\n",
    "            X_batch, y_batch = X_batch.to(device), y_batch.to(device)\n",
    "\n",
    "            # Обнуляем веса\n",
    "            optimizer.zero_grad()\n",
    "\n",
    "            # forwrd\n",
    "            pred = model(X_batch)\n",
    "            if inc_v3:\n",
    "                # предсказания + aux хвост \n",
    "                y_pred, ax_pred = model(X_batch)\n",
    "                # loss считается отдельно, для каждой части\n",
    "                loss1 = loss_fn(y_pred, y_batch)\n",
    "                loss2 = loss_fn(ax_pred, y_batch)\n",
    "                # общий loss считаем так (нашел в интернете, как базовый вариант)\n",
    "                loss = loss1 + 0.4 * loss2\n",
    "            else:\n",
    "                loss = loss_fn(pred, y_batch)\n",
    "\n",
    "            # backward + optimize\n",
    "            loss.backward()\n",
    "            optimizer.step()\n",
    "\n",
    "            # Выведем текущий loss в прогресс бар\n",
    "            batch_loss = np.append(batch_loss, loss.item())\n",
    "            pbatch.set_description(f\"batch [loss: {batch_loss.mean():.3f}]\")\n",
    "\n",
    "            # Пишем в лог каждые 50 батчей\n",
    "            # Оставлю как в базовом решении, не знаю почему именно 50 - но пусть будет)\n",
    "            if i % 50 == 49:\n",
    "                history['loss'].append(loss.item())\n",
    "                # Loss валидационной выборки\n",
    "                tmp_loss = model_check(model, signsValidationLoader, device, \n",
    "                                       loss_fn=loss_fn)\n",
    "                history['val_loss'].append(tmp_loss)\n",
    "            i += 1\n",
    "\n",
    "        # Считаем точность после каждой эпохи\n",
    "        tmp_acc = model_check(model, signsValidationLoader, device, \n",
    "                              accurency=True)\n",
    "        val_acc = np.append(val_acc, tmp_acc)\n",
    "            \n",
    "        if tmp_acc > 0.98:\n",
    "            save_name = f\"{nn_type}_{time_stamp}_{val_acc[-1]:.4f}_{epoch}.pth\"\n",
    "            torch.save(model.state_dict(), save_name)\n",
    "            print(\"Сохраняем:\", save_name)\n",
    "\n",
    "        # Выводим точность модели и дельту с предудыщим значением\n",
    "        delta = 0 if len(val_acc) < 2 else (val_acc[-1] - val_acc[-2])\n",
    "        pbar.set_description(f\"epoch [acc: {val_acc[-1]:.3f}/{delta:.3f}]\")\n",
    "        \n",
    "\n",
    "except KeyboardInterrupt:\n",
    "    # Перехватываем \"interrupt kernel\"\n",
    "    print('Повинуюсь')\n",
    "    \n",
    "print('Обучение закончено')\n",
    "if len(val_acc) > 0:\n",
    "    print(f\"{val_acc.max():.4f}\")"
   ]
  },
  {
   "cell_type": "markdown",
   "metadata": {},
   "source": [
    "После обучения получаем набор сохраненных моделей, тестим на колабе и выбираем лучшую, отбираем по убыванию номера эпохи. Т.к. сделано уменьшения *learning rate* и подобрано \"нужное\" количество эпох (до того как начнется момент переобучения, выбрано после ряда прогонов и внимательного вглядывания в графики), сильно переобучить модель мы не должны.  "
   ]
  },
  {
   "cell_type": "markdown",
   "metadata": {
    "colab_type": "text",
    "id": "NE18DvTxVBRq"
   },
   "source": [
    "### Начертим кривые обучения"
   ]
  },
  {
   "cell_type": "code",
   "execution_count": 14,
   "metadata": {
    "colab": {},
    "colab_type": "code",
    "id": "k15KsSqzVBRq"
   },
   "outputs": [
    {
     "data": {
      "image/png": "[encoded data removed]",
      "text/plain": [
       "<Figure size 432x288 with 1 Axes>"
      ]
     },
     "metadata": {
      "needs_background": "light"
     },
     "output_type": "display_data"
    }
   ],
   "source": [
    "# Скользящее среднее (оставляем без изменения)\n",
    "def smooth_curve(points, factor=0.9):\n",
    "    smoothed_points = []\n",
    "    for point in points:\n",
    "        if smoothed_points:\n",
    "            previous = smoothed_points[-1]\n",
    "            smoothed_points.append(previous * factor + point * (1 - factor))\n",
    "        else:\n",
    "            smoothed_points.append(point)\n",
    "    return smoothed_points\n",
    "\n",
    "plt.clf()\n",
    "loss_values = smooth_curve(history['loss'])\n",
    "val_loss_values = smooth_curve(history['val_loss'])\n",
    "epochs = np.arange(len(loss_values))\n",
    "plt.plot(epochs, loss_values, 'bo', label='Training loss')\n",
    "plt.plot(epochs, val_loss_values, 'b', label='Validation loss')\n",
    "plt.title('Training and validation loss')\n",
    "plt.xlabel('Epochs')\n",
    "plt.ylabel('Loss')\n",
    "plt.legend()\n",
    "plt.show()"
   ]
  },
  {
   "cell_type": "markdown",
   "metadata": {
    "colab_type": "text",
    "id": "i14Zvq6wVBRs"
   },
   "source": [
    "### Выведем confusion matrix"
   ]
  },
  {
   "cell_type": "code",
   "execution_count": 15,
   "metadata": {
    "colab": {},
    "colab_type": "code",
    "id": "sNrEqEJzVBRs"
   },
   "outputs": [],
   "source": [
    "# Оставляем без изменения\n",
    "    \n",
    "# Воспользуемся функцией из документации matplotlib, выводящей confusion matrix \n",
    "# Source https://scikit-learn.org/stable/auto_examples/model_selection/plot_confusion_matrix.html    \n",
    "def plot_confusion_matrix(cm, classes,\n",
    "                          normalize=False,\n",
    "                          title='Confusion matrix',\n",
    "                          cmap=plt.cm.Blues):\n",
    "    \"\"\"\n",
    "    This function prints and plots the confusion matrix.\n",
    "    Normalization can be applied by setting `normalize=True`.\n",
    "    \"\"\"\n",
    "    cm = cm.T\n",
    "    if normalize:\n",
    "        cm = cm.astype('float') / cm.sum(axis=1)[:, np.newaxis]\n",
    "        print(\"Normalized confusion matrix\")\n",
    "    else:\n",
    "        print('Confusion matrix, without normalization')\n",
    "\n",
    "    #print(cm)\n",
    "    plt.figure(figsize=(16,11))\n",
    "    plt.imshow(cm, interpolation='nearest', cmap=cmap)\n",
    "    plt.title(title)\n",
    "    plt.colorbar()\n",
    "    tick_marks = np.arange(len(classes))\n",
    "    plt.xticks(tick_marks, classes, rotation=90)\n",
    "    plt.yticks(tick_marks, classes)\n",
    "\n",
    "    fmt = '.2f' if normalize else 'd'\n",
    "    thresh = cm.max() / 2.\n",
    "    for i, j in itertools.product(range(cm.shape[0]), range(cm.shape[1])):\n",
    "        plt.text(j, i, format(cm[i, j], fmt),\n",
    "                 horizontalalignment=\"center\",\n",
    "                 color=\"white\" if cm[i, j] > thresh else \"black\")\n",
    "\n",
    "    plt.ylabel('True label')\n",
    "    plt.xlabel('Predicted label')\n",
    "\n",
    "    plt.tight_layout()"
   ]
  },
  {
   "cell_type": "code",
   "execution_count": 16,
   "metadata": {
    "colab": {},
    "colab_type": "code",
    "id": "wQJzwM8IVBRu",
    "scrolled": false
   },
   "outputs": [
    {
     "name": "stdout",
     "output_type": "stream",
     "text": [
      "Normalized confusion matrix\n"
     ]
    },
    {
     "data": {
      "image/png": "[encoded data removed]",
      "text/plain": [
       "<Figure size 1152x792 with 2 Axes>"
      ]
     },
     "metadata": {
      "needs_background": "light"
     },
     "output_type": "display_data"
    }
   ],
   "source": [
    "if isinstance(model, models.inception.Inception3):\n",
    "    model.aux_logits = False\n",
    "\n",
    "y_test_all = torch.Tensor().long()\n",
    "predictions_all = torch.Tensor().long()\n",
    "\n",
    "# Пройдём по всему validation датасету и запишем ответы сети\n",
    "with torch.no_grad():\n",
    "    for x_batch, y_batch in signsValidationLoader:\n",
    "        x_batch = x_batch.to(device)\n",
    "        predictions = model(x_batch)\n",
    "        _, predictions = torch.max(predictions.cpu(), 1)\n",
    "        \n",
    "        # Аналог append для list\n",
    "        y_test_all = torch.cat((y_test_all, y_batch), 0)\n",
    "        predictions_all = torch.cat((predictions_all, predictions), 0)\n",
    "\n",
    "feature_names = full_dataset.labels\n",
    "\n",
    "y_test_all = y_test_all.numpy()\n",
    "predictions_all = predictions_all.numpy()\n",
    "\n",
    "# Функция из sklearn, создаёт confusion матрицу\n",
    "cm = confusion_matrix(y_test_all, predictions_all, np.arange(classes_number))\n",
    "# Выведем её\n",
    "plot_confusion_matrix(cm, full_dataset.labels, normalize=True)"
   ]
  },
  {
   "cell_type": "markdown",
   "metadata": {
    "colab_type": "text",
    "id": "ikJnhGIAVBRy"
   },
   "source": [
    "### Выведем точность для каждого класса"
   ]
  },
  {
   "cell_type": "code",
   "execution_count": 17,
   "metadata": {
    "colab": {},
    "colab_type": "code",
    "id": "JEvv7PNFVBRy",
    "scrolled": true
   },
   "outputs": [
    {
     "name": "stdout",
     "output_type": "stream",
     "text": [
      "[91, 101, 103, 64, 92, 72, 108, 92, 68, 107, 136, 132, 99, 167, 272, 181, 123]\n",
      "Accuracy of 100_SIGN : 100 %\n",
      "Accuracy of 110_SIGN : 99 %\n",
      "Accuracy of 30_SIGN : 97 %\n",
      "Accuracy of 50_SIGN : 93 %\n",
      "Accuracy of 60_SIGN : 98 %\n",
      "Accuracy of 70_SIGN : 98 %\n",
      "Accuracy of 80_SIGN : 99 %\n",
      "Accuracy of 90_SIGN : 100 %\n",
      "Accuracy of GIVE_WAY : 98 %\n",
      "Accuracy of NO_PARKING : 100 %\n",
      "Accuracy of NO_STOPPING_NO_STANDING : 99 %\n",
      "Accuracy of OTHER : 94 %\n",
      "Accuracy of PASS_EITHER_SIDE : 100 %\n",
      "Accuracy of PASS_RIGHT_SIDE : 100 %\n",
      "Accuracy of PEDESTRIAN_CROSSING : 99 %\n",
      "Accuracy of PRIORITY_ROAD : 98 %\n",
      "Accuracy of  STOP : 100 %\n"
     ]
    }
   ],
   "source": [
    "class_correct = [0 for i in range(classes_number)]\n",
    "class_total = [0 for i in range(classes_number)]\n",
    "\n",
    "c = (predictions_all == y_test_all).squeeze()\n",
    "for i in range(len(predictions_all)):\n",
    "    label = predictions_all[i]            \n",
    "    class_correct[label] += c[i].item()\n",
    "    class_total[label] += 1\n",
    "\n",
    "print(class_total)\n",
    "\n",
    "for i in range(classes_number):\n",
    "    print('Accuracy of %5s : %2d %%' % (\n",
    "        (full_dataset.labels[i], (100 * class_correct[i] / class_total[i]) if class_total[i] != 0 else -1)))"
   ]
  },
  {
   "cell_type": "markdown",
   "metadata": {
    "colab_type": "text",
    "id": "BjKQy6O6VBR2"
   },
   "source": [
    "# Генерация файла ответов на test\n",
    "Создаем тестовый датасет"
   ]
  },
  {
   "cell_type": "code",
   "execution_count": 18,
   "metadata": {
    "colab": {},
    "colab_type": "code",
    "id": "pW35-M3hVBR3"
   },
   "outputs": [
    {
     "name": "stdout",
     "output_type": "stream",
     "text": [
      "610 samples loaded\n"
     ]
    }
   ],
   "source": [
    "test_dataset = SignsDataset(data_path + 'test.csv', \n",
    "                            data_path + 'data//',\n",
    "                            False)\n",
    "\n",
    "# DataLoader достаёт данные из dataset батчами\n",
    "signsTestLoader = DataLoader(test_dataset, batch_size=1)"
   ]
  },
  {
   "cell_type": "markdown",
   "metadata": {},
   "source": [
    "Загружаем веса, полученные в ходе соревнования (в зависимости от выбранной модели)"
   ]
  },
  {
   "cell_type": "code",
   "execution_count": 21,
   "metadata": {},
   "outputs": [],
   "source": [
    "if nn_type == \"resnet34\":\n",
    "    model = get_resnet(classes_number, device)\n",
    "    model.load_state_dict(torch.load(\"sweden_resnet_0.99.pth\"))\n",
    "elif nn_type == \"vgg16_bn\":\n",
    "    model = get_vgg(classes_number, device, False)\n",
    "    if double_ds:\n",
    "        model.load_state_dict(torch.load(\"sweden_vgg16bn_0.99.pth\"))\n",
    "    else:\n",
    "        model.load_state_dict(torch.load(\"sweden_vgg16bn_0.98.pth\"))\n",
    "\n",
    "model.eval()\n",
    "pass"
   ]
  },
  {
   "cell_type": "markdown",
   "metadata": {},
   "source": [
    "Создаем файл с предсказаниями"
   ]
  },
  {
   "cell_type": "code",
   "execution_count": 21,
   "metadata": {
    "colab": {},
    "colab_type": "code",
    "id": "Pz59HPwrVBR4"
   },
   "outputs": [
    {
     "name": "stdout",
     "output_type": "stream",
     "text": [
      "Файл сохранен: road_sign_20190515_235624.csv\n"
     ]
    }
   ],
   "source": [
    "answer = []\n",
    "\n",
    "with torch.no_grad(): \n",
    "    model.eval()\n",
    "    for x_batch, y_batch in signsTestLoader:\n",
    "        x_batch = x_batch.to(device)\n",
    "        predictions = model(x_batch)\n",
    "        _, predictions = torch.max(predictions.cpu(), 1)\n",
    "        answer.append(full_dataset.labels[predictions[0]])\n",
    "\n",
    "prediction_df = pd.DataFrame({\"file_name\": test_dataset.signs_frame.file_name.copy(),\n",
    "                              \"label\": answer})\n",
    "    \n",
    "# \"Уникальное\" имя файла\n",
    "today = datetime.datetime.today().strftime(\"%Y%m%d_%H%M%S\")\n",
    "today = f\"road_sign_{today}.csv\"\n",
    "\n",
    "prediction_df.to_csv(today, index=False)\n",
    "print(\"Файл сохранен:\", today)"
   ]
  }
 ],
 "metadata": {
  "colab": {
   "name": "[homework]fine-tuning.ipynb",
   "provenance": [],
   "version": "0.3.2"
  },
  "kernelspec": {
   "display_name": "Python 3",
   "language": "python",
   "name": "python3"
  },
  "language_info": {
   "codemirror_mode": {
    "name": "ipython",
    "version": 3
   },
   "file_extension": ".py",
   "mimetype": "text/x-python",
   "name": "python",
   "nbconvert_exporter": "python",
   "pygments_lexer": "ipython3",
   "version": "3.6.7"
  }
 },
 "nbformat": 4,
 "nbformat_minor": 1
}
